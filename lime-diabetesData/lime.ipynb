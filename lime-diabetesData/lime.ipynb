{
 "cells": [
  {
   "cell_type": "code",
   "execution_count": null,
   "metadata": {},
   "outputs": [],
   "source": [
    "# Kütüphanelerin dahil edilmesi\n",
    "from sklearn.model_selection import train_test_split\n",
    "from sklearn.ensemble import RandomForestClassifier\n",
    "from sklearn.model_selection import cross_val_predict\n",
    "from sklearn.metrics import classification_report, confusion_matrix, accuracy_score\n",
    "\n",
    "import pandas as pd"
   ]
  },
  {
   "cell_type": "code",
   "execution_count": null,
   "metadata": {},
   "outputs": [],
   "source": [
    "data = pd.read_csv('diabetes.csv')\n",
    "data.head()"
   ]
  },
  {
   "cell_type": "code",
   "execution_count": null,
   "metadata": {},
   "outputs": [],
   "source": [
    "# Veri setinin özellikler ve hedef değişken olarak ayrılması.\n",
    "X = data.drop('Outcome', axis=1)\n",
    "y = data['Outcome']"
   ]
  },
  {
   "cell_type": "code",
   "execution_count": null,
   "metadata": {},
   "outputs": [],
   "source": [
    "# Veri setinin eğitim ve test olarak ayrılması.\n",
    "X_train, X_test, y_train, y_test = train_test_split(X, y, test_size=0.3 ,stratify=y, random_state=13)"
   ]
  },
  {
   "cell_type": "code",
   "execution_count": null,
   "metadata": {},
   "outputs": [],
   "source": [
    "# Random Forest sınıflandırıcısının oluşturulması.\n",
    "\n",
    "randomForest_cls = RandomForestClassifier(max_features=2, n_estimators=100, bootstrap=True)\n",
    "randomForest_cls.fit(X_train, y_train)"
   ]
  },
  {
   "cell_type": "code",
   "execution_count": null,
   "metadata": {},
   "outputs": [],
   "source": [
    "# Test veri seti üzerinden tahmin yapılması.\n",
    "y_pred = randomForest_cls.predict(X_test)"
   ]
  },
  {
   "cell_type": "code",
   "execution_count": null,
   "metadata": {},
   "outputs": [],
   "source": [
    "# Tahmin Raporu\n",
    "print(classification_report(y_test, y_pred))"
   ]
  },
  {
   "cell_type": "code",
   "execution_count": null,
   "metadata": {},
   "outputs": [],
   "source": [
    "# Confusion Matrix\n",
    "print(confusion_matrix(y_test, y_pred))"
   ]
  },
  {
   "cell_type": "code",
   "execution_count": null,
   "metadata": {},
   "outputs": [],
   "source": [
    "# Accuracy Score\n",
    "print(accuracy_score(y_test, y_pred))"
   ]
  },
  {
   "cell_type": "markdown",
   "metadata": {},
   "source": [
    "# LIME"
   ]
  },
  {
   "cell_type": "markdown",
   "metadata": {},
   "source": [
    "Yerel Yorumlanabilir Model-agnostik Açıklamalar (kısaca LIME). LIME, tüm veri kümesinde modelin genel olarak anlaşılmasını sağlamak yerine, modelin bireysel örnekler için tahminini açıklamaya odaklanır.\n",
    "\n",
    "LIME açıklayıcısı iki ana adım kullanılarak ayarlanabilir: (1) lime modülünü içe aktarın ve (2) eğitim verilerini ve hedefleri kullanarak açıklayıcıyı yerleştirin. Bu aşamada mod, gerçekleştirilen göreve karşılık gelen sınıflandırmaya ayarlanır"
   ]
  },
  {
   "cell_type": "code",
   "execution_count": null,
   "metadata": {},
   "outputs": [],
   "source": [
    "# Kütüphanelerin dahil edilmesi\n",
    "from lime.lime_tabular import LimeTabularExplainer"
   ]
  },
  {
   "cell_type": "code",
   "execution_count": null,
   "metadata": {},
   "outputs": [],
   "source": [
    "# Sınıf adlarının belirlenmesi.\n",
    "class_names = ['No Diabetes', 'Diabetes']"
   ]
  },
  {
   "cell_type": "code",
   "execution_count": null,
   "metadata": {},
   "outputs": [],
   "source": [
    "# Özellik isimlerinin belirlenmesi.\n",
    "feature_names = list(data.drop('Outcome', axis=1).columns)"
   ]
  },
  {
   "cell_type": "code",
   "execution_count": null,
   "metadata": {},
   "outputs": [],
   "source": [
    "# LimeTabularExplainer sınıfının oluşturulması.\n",
    "explainer = LimeTabularExplainer(X_train.values, feature_names=feature_names, class_names=class_names, mode='classification')\n"
   ]
  },
  {
   "cell_type": "code",
   "execution_count": null,
   "metadata": {},
   "outputs": [],
   "source": [
    "exp = explainer.explain_instance(X_test.values[8], randomForest_cls.predict_proba, num_features=8, top_labels=1)\n",
    "exp.show_in_notebook(show_table=True, show_all=False)"
   ]
  },
  {
   "cell_type": "markdown",
   "metadata": {},
   "source": [
    "Sonuç, soldan sağa üç ana bilgi içerir: (1) modelin tahminleri, (2) özellik katkıları ve (3) her özelliğin gerçek değeri.\n",
    "\n",
    "Sekiz hastanın diyabet hastası olduğunun %72 güvenle tahmin edildiğini gözlemleyebiliyoruz. Modelin bu kararı almasına neden olan nedenler şunlardır:\n",
    "\n",
    "Hastanın glikoz seviyesi 99'un üzerindedir.\n",
    "Kan basıncı 70'in üzerinde.\n",
    "Bu değerler sağdaki tablodan doğrulanabilir."
   ]
  }
 ],
 "metadata": {
  "kernelspec": {
   "display_name": "Python 3",
   "language": "python",
   "name": "python3"
  },
  "language_info": {
   "codemirror_mode": {
    "name": "ipython",
    "version": 3
   },
   "file_extension": ".py",
   "mimetype": "text/x-python",
   "name": "python",
   "nbconvert_exporter": "python",
   "pygments_lexer": "ipython3",
   "version": "3.11.4"
  }
 },
 "nbformat": 4,
 "nbformat_minor": 2
}
